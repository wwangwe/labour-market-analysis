{
  "nbformat": 4,
  "nbformat_minor": 0,
  "metadata": {
    "colab": {
      "name": "Web Scrapping.ipynb",
      "provenance": [],
      "authorship_tag": "ABX9TyPkN1ZsEa5VOidO1ehk0Pzy",
      "include_colab_link": true
    },
    "kernelspec": {
      "name": "python3",
      "display_name": "Python 3"
    },
    "language_info": {
      "name": "python"
    }
  },
  "cells": [
    {
      "cell_type": "markdown",
      "metadata": {
        "id": "view-in-github",
        "colab_type": "text"
      },
      "source": [
        "<a href=\"https://colab.research.google.com/github/wwangwe/labour-market-analysis/blob/working/Web_Scrapping.ipynb\" target=\"_parent\"><img src=\"https://colab.research.google.com/assets/colab-badge.svg\" alt=\"Open In Colab\"/></a>"
      ]
    },
    {
      "cell_type": "markdown",
      "source": [
        "# Real-time Kenyan Labour Market Analysis"
      ],
      "metadata": {
        "id": "Lo6D7R6TkFfB"
      }
    },
    {
      "cell_type": "markdown",
      "source": [
        "## Web Scrapping\n",
        "\n"
      ],
      "metadata": {
        "id": "ZDqr0CMukVrH"
      }
    },
    {
      "cell_type": "code",
      "source": [
        "import json\n",
        "import time\n",
        "from random import randint\n",
        "\n",
        "import pandas as pd\n",
        "import requests\n",
        "from bs4 import BeautifulSoup\n"
      ],
      "metadata": {
        "id": "utaEJak5HKon"
      },
      "execution_count": 1,
      "outputs": []
    },
    {
      "cell_type": "code",
      "execution_count": 2,
      "metadata": {
        "id": "FVKqavvxWxjx"
      },
      "outputs": [],
      "source": [
        "headers = [\n",
        "    ({\n",
        "        'User-Agent':\n",
        "        'Mozilla/5.0 (Windows NT 10.0; Win64; x64) AppleWebKit/537.36 (KHTML, like Gecko) Chrome/75.0.3770.100 Safari/537.36',\n",
        "    }),\n",
        "    ({\n",
        "        'User-Agent':\n",
        "        'Mozilla/5.0 (Macintosh; Intel Mac OS X 10_14_5)AppleWebKit/605.1.15 (KHTML, like Gecko)Version/12.1.1 Safari/605.1.15',\n",
        "    }),\n",
        "    ({\n",
        "        'User-Agent':\n",
        "        'Mozilla/5.0 (X11; Linux x86_64) AppleWebKit/537.36 (KHTML, like Gecko) Chrome/44.0.2403.157 Safari/537.36',\n",
        "    }),\n",
        "    ({\n",
        "        'User-Agent':\n",
        "        'Mozilla/5.0 (Macintosh; Intel Mac OS X 10_11_6) AppleWebKit/601.7.8 (KHTML, like Gecko)',\n",
        "    }),\n",
        "    ({\n",
        "        'User-Agent':\n",
        "        'Mozilla/5.0 (iPhone; CPU iPhone OS 13_5_1 like Mac OS X) AppleWebKit/605.1.15 (KHTML, like Gecko) Mobile/15E148 [FBAN/FBIOS;FBDV/iPhone9,1;FBMD/iPhone;FBSN/iOS;FBSV/13.5.1;FBSS/2;FBID/phone;FBLC/en_US;FBOP/5]'\n",
        "    })\n",
        "]\n"
      ]
    },
    {
      "cell_type": "code",
      "source": [
        "def header(headers: list) -> dict:\n",
        "    \"\"\"Generate a random header.\n",
        "\n",
        "    Args:\n",
        "        headers (list): List of headers.\n",
        "\n",
        "    Returns:\n",
        "        random_header (dict): Random header from the list of headers.\n",
        "    \"\"\"\n",
        "    random_int = randint(0, len(headers) - 1)\n",
        "    random_header = headers[random_int]\n",
        "    return random_header\n",
        "\n"
      ],
      "metadata": {
        "id": "bAtDKBPbQrJ6"
      },
      "execution_count": 3,
      "outputs": []
    },
    {
      "cell_type": "code",
      "source": [
        "def prepare_soup(url: str) -> 'BeautifulSoup':\n",
        "    \"\"\"Process url to a Beautiful Soup object.\n",
        "\n",
        "    Args:\n",
        "        url (str): Link to jobs page.\n",
        "\n",
        "    Raises:\n",
        "        ValueError: Raised when requests.get fails.\n",
        "\n",
        "    Returns:\n",
        "        soup: Browsable bs4 object.\n",
        "    \"\"\"\n",
        "    response = requests.get(url, header(headers), timeout=5)\n",
        "    status_code = response.status_code\n",
        "    if status_code == 200:\n",
        "        soup = BeautifulSoup(response.text, 'html.parser')\n",
        "        return soup\n",
        "    else:\n",
        "        raise ValueError(\"Soup Not Created! Status Code: \", status_code)\n"
      ],
      "metadata": {
        "id": "eDvHU---D9Qm"
      },
      "execution_count": 4,
      "outputs": []
    },
    {
      "cell_type": "code",
      "source": [
        "def fetch_jobs(url: str) -> list:\n",
        "    \"\"\"Get job detail urls for all the jobs in current page(url).\n",
        "\n",
        "    Args:\n",
        "        url (str): Current page with jobs.\n",
        "\n",
        "    Returns:\n",
        "        list_data (list): List of job detail urls.\n",
        "    \"\"\"\n",
        "    soup = prepare_soup(url)\n",
        "    string_data = soup.find_all(\"script\", type=\"application/ld+json\")[0].text\n",
        "    json_data = json.loads(string_data)['itemListElement']\n",
        "    list_data = [data['url'] for data in json_data]\n",
        "    return list_data\n"
      ],
      "metadata": {
        "id": "N6DoV6jLCbhL"
      },
      "execution_count": 5,
      "outputs": []
    },
    {
      "cell_type": "code",
      "source": [
        "def fetch_job_details(soup: 'BeautifulSoup') -> dict:\n",
        "    \"\"\"Fetch details for each job.\n",
        "\n",
        "    Each dictionary contains details about only one job. Try Except \n",
        "    used to handle possible errors due to change in selectors.\n",
        "\n",
        "    Args:\n",
        "        soup (BeautifulSoup): Browsable bs4 object.\n",
        "\n",
        "    Returns:\n",
        "        dict: Dictionary of job details.\n",
        "    \"\"\"\n",
        "    details = {}\n",
        "    try:\n",
        "        details['title'] = soup.find('h1', 'job-header__title').text\n",
        "    except AttributeError:\n",
        "        details['title'] = 'None'\n",
        "    try:\n",
        "        details['job_function'] = soup.find(\n",
        "            'div', 'hide-under-lg').find_all('h2')[1].text\n",
        "    except AttributeError:\n",
        "        details['job_function'] = 'None'\n",
        "    try:\n",
        "        details['location'] = soup.find('a', 'job-header__location').text\n",
        "    except AttributeError:\n",
        "        details['location'] = 'None'\n",
        "    try:\n",
        "        details['industry'] = soup.find('span',\n",
        "                                        'job-header__location').find('a').text\n",
        "    except AttributeError:\n",
        "        details['industry'] = 'None'\n",
        "    try:\n",
        "        details['description'] = soup.find_all(\n",
        "            'div', 'customer-card__content-segment')[0].find('p').text\n",
        "    except AttributeError:\n",
        "        details['description'] = 'None'\n",
        "    try:\n",
        "        details['qualifications'] = soup.find(\n",
        "            'div', 'description-content__content').text\n",
        "    except AttributeError:\n",
        "        details['qualifications'] = 'None'\n",
        "\n",
        "    return details\n",
        "\n"
      ],
      "metadata": {
        "id": "3npgQ0CPI683"
      },
      "execution_count": 6,
      "outputs": []
    },
    {
      "cell_type": "code",
      "source": [
        "url = \"https://www.brightermonday.co.ke/jobs\"\n",
        "\n",
        "def main(url):\n",
        "    page = 50\n",
        "    while True:\n",
        "        current_url = url+f'?page={page}'\n",
        "        page += 1\n",
        "        job_data = []\n",
        "        print(current_url)\n",
        "        for job_url in fetch_jobs(current_url):\n",
        "            soup = prepare_soup(job_url)\n",
        "            if soup != None:\n",
        "                job_data.append(fetch_job_details(soup))\n",
        "            else:\n",
        "                break\n",
        "        if page <= 50:\n",
        "            time.sleep(randint(1, 5))\n",
        "        else:\n",
        "            break\n",
        "    return job_data\n",
        "        \n",
        "main(url)"
      ],
      "metadata": {
        "id": "N_5cKJPpLYzI",
        "colab": {
          "base_uri": "https://localhost:8080/"
        },
        "outputId": "7b47afe5-6657-41ef-a526-14e630debc66"
      },
      "execution_count": 7,
      "outputs": [
        {
          "output_type": "stream",
          "name": "stdout",
          "text": [
            "https://www.brightermonday.co.ke/jobs?page=50\n"
          ]
        },
        {
          "output_type": "execute_result",
          "data": {
            "text/plain": [
              "[{'description': '\\nThe role holder will ensure the 24/7 stability, integrity, and efficient operation of the Software Systems and appliances that support core business, through proven communication, analytical, problem-solving skills, and innovation to help identify, communicate, and resolve issues to maximize the benefit of IT systems investments for the entire KCB Group.\\n',\n",
              "  'industry': '\\nBanking, Finance & Insurance\\n',\n",
              "  'job_function': '\\nEngineering & Technology\\n',\n",
              "  'location': '\\nNairobi\\n',\n",
              "  'qualifications': 'Key Responsibilities:Collaborate with other IT staff to ensure smooth and reliable\\noperation of software and systems for fulfilling business objectives and\\nprocesses.Implement and adhere to regular systems maintenance policies and\\nprocedures, including change request mechanisms and update schedules to\\nensure optimum uptime and service availability.Conduct research on software systems products to justify recommendations and to support purchasing efforts.Participate in system acquisition process.Propose and create system design models, specifications, diagrams,\\ncharts, and implementation roadmaps to provide strategic direction to\\nthe business.Perform recovery and testing of systems and processes in accordance\\nwith the company’s disaster recovery and business continuity strategies.Create and maintain documentation as it relates to system configuration, mapping, and processes.Create and maintaining best practice policies and procedures for\\nbusiness users; ensuring that there are adequate controls around that\\nall service improvements are managed effectively and meet the needs of\\nthe organization.The Person:For the above position, the successful applicant should have the following:University degree from a recognized institution in an IT or related field.Professional qualifications such as MCSE/ MCSA/ ITIL/ LINUX/ UNIX is required.At least 3 years Technology experience with hands on experience in:Computing platforms, operating systems, and databases.Application software installation and support.Quality assurance in relation to large & complex computer systems, applications & databases.Experience in methods & techniques for installation,\\nadministration, monitoring, upgrading and problem resolution of central\\napplication software systems.Knowledge and experience in basic budgeting, contracting, purchasing practices, policies, and procedures in an IT environment.Exceptional communication, presentation, and customer relationship skills.The above position\\xa0is demanding role for which the Bank will provide a\\ncompetitive remuneration package to the successful candidate. If you\\nbelieve you can clearly demonstrate your abilities to meet the criteria\\ngiven above, please log in to our Recruitment portal and submit your\\napplication with a detailed CV.To be considered your application must be received by Friday, 28th January 2022.Qualified candidates with disability are encouraged to apply.Only short-listed candidates will be contacted.',\n",
              "  'title': 'Application Support Engineer'},\n",
              " {'description': '\\nAssist in underwriting and risk assessment within the set standards of service to ensure quality and timely service.\\n',\n",
              "  'industry': '\\nBanking, Finance & Insurance\\n',\n",
              "  'job_function': '\\nAccounting, Auditing & Finance\\n',\n",
              "  'location': '\\nRest of Kenya\\n',\n",
              "  'qualifications': 'Job Purpose:Assist in underwriting and risk assessment within the set standards of service to ensure quality and timely service.\\xa0\\nResponsible for delivering an exceptional customer experience at the\\nBritam branch level and putting the needs of every customer at the heart\\nof every decision-making process.Key responsibilitiesCorporate Business\\n1.Review all applications for insurance – determine the profiles of\\nrisks presented to the company for insurance and assess their\\nacceptability or otherwise;\\n2.Prepare quotations as per authority matrix;\\n3.Custodian of underwriting documents e.g.Comesa cards\\n4.Conduct Risk surveys for small risks as per authority matrix;\\n5.Prepare and issue certificates and cover notes where necessary;\\n6.Ensure timely preparation and dispatch of policy documents including\\nvaluation reports, debit, credit notes & endorsements and\\nauthorising them within agreed and set authority limits;\\n7.Implement credit control policy and ensure that premiums are debited and collected as required;\\n8.Ensure receipting of premium collections, daily banking as well as\\npreparation of premium reports for all lines of business as applicable;\\n9. Review and communicate renewal terms, ensure renewal notices go out\\non time and follow up renewals to ensure high retention rate;Retail Business\\n1. \\xa0Conduct 1st level underwriting of new business /by carrying out\\ncompleteness and accuracy checks to ensure data was captured accurately\\nin the application and systems;\\n2.Scanning and indexing of customer instructions;\\n3.Receipting(cheques/standing orders/check offs) and posting payments in LOB system;\\n4.Preparing Daily Premium reports;\\n5 .Advise Policy Administration on dishonoured cheques and write letters to customers regarding the same;\\n6.Processing refunds/cancelled policies/deductions after maturity, claims and surrenders;\\n7.Forward issued applications to registry;\\n8. Hold briefing the event the customer service assistant is absent by performing that role/tasks.\\n9.Performany other duties as may be assigned from time to time\\n10. Delegated Authority: \\xa0As per the approved Delegated Authority Matrix\\n11. \\xa0Prepare quotations in collaborations with the CSE\\n12. Drive customer self service by encouraging all walk-in clients to\\nsign up to the customer portal and offer necessary support.\\n13. Ensure business retention by taking initiative to conserve\\ncancellations and surrenders before processing customer instructions.\\n\\xa0Knowledge, experience and qualifications required\\nBachelor’s degree (insurance option preferred)\\nAt least one year experience in the insurance industry',\n",
              "  'title': 'Underwriting Associate-Nyeri'},\n",
              " {'description': '\\nResponsible for executing and growth of the Custodial Services strategy, enhance business growth, drive initiatives that enhance client relationships and ensure operational efficiency and service delivery within the framework of standard operating procedures and as per the Retirement Benefit Authority (RBA) regulations and CMA guidelines.\\n',\n",
              "  'industry': '\\nBanking, Finance & Insurance\\n',\n",
              "  'job_function': '\\nManagement & Business Development\\n',\n",
              "  'location': '\\nNairobi\\n',\n",
              "  'qualifications': 'JOB PURPOSE\\nReporting to the Director, Technology &\\nOperations Division, the job-holder will be responsible for executing\\nand growth of the Custodial Services strategy, enhance business growth,\\ndrive initiatives that enhance client relationships and ensure\\noperational efficiency and service delivery within the framework of\\nstandard operating procedures and as per the Retirement Benefit\\nAuthority (RBA) regulations and CMA guidelines.\\xa0KEY RESPONSIBILITIES\\nDeveloping and driving the Custodial Services Strategy.Sales, Business Development & Relationship Management.Delivering exceptional Customer Experience.Delivering seamless Custodial Operations.MAIN ACTIVITIESDevelop and drive the Custodial Services Strategy:Enhance Custody and Trustee business by facilitating favorable market practices/policies and fostering good client relationship;Provide a consistently high-quality\\noverall marketing, business development and client relationship\\nmanagement to clients/customers & taking overall responsibility for\\nthe Custodial Services operations.Sales, Business Development & Relationship Management: Full responsibility for all product lines\\nand all sales and business development for the bank driven through the\\nbranch network and Head Office Business Development teams;Develop a target market database of\\nclients in the Bank’s desired industries/sectors, have well defined call\\nobjectives and drive a robust calling program that will generate sales\\nand business for the Bank;Develop business opportunities and monitor\\nbusiness’s activities in line with the Bank’s long-term strategic and\\nannual business plans and ensure that the Bank remains competitive and\\npromptly reacts to changing market conditions and customer needs;Spearhead the development and implementation of new Custody Services products;Maintain the customer service levels and TAT for the departmental product processing;Training and mentoring branches and relationship managers on Custodial products.Delivering exceptional customer experience:Key driver for not only customer\\nsatisfaction, but building a base of promoters by enhancing positive\\ncustomer experience and advocacy to drive competitive advantage, leading\\nto faster organic growth and lower cost;Create a differentiated customer\\nexperience design, tailored to target customer needs and optimize\\ncustomer interactions with the brand, offerings, and touch points to\\nconsistently deliver and make continuous improvements to the design;Delivery of consistent seamless customer\\nservice through maintenance of high service standards, relationship\\nManagement and partnerships for the Custody business (customers, fund\\nmanagers, brokers, regulators, administrators, stakeholders).Delivering seamless Custodial Operations:Understanding of the overall risks\\nassociated with the Custody operations and ensure there are sufficient\\nand effective controls to manage these risks;Enforcement of risk excellence and\\ncompliance requirements by Co-ordinating internal and external audits\\nfor the unit, to ensure compliance with regulatory, audit and internal\\ncontrols;Maintain a high level of integrity and ethical standards commensurate with the requirements of market best practice;Ensure all regulatory returns and any\\nother information requested by the regulators are accurately compiled\\nand submitted within the stipulated timelines;Leading the Custody team for efficient\\noperations, excellent client service and business growth, to ensure \\nprofitability numbers are met and exceeded;Making sure that the unit prepares and\\ndispatches/delivers reports to our Custody clients in accordance with\\nset Service Level Agreements;Co-ordination, maintenance and compliance\\non duties and responsibilities under the unit trust, Trustee services\\nand facility agency/registrar business;Supporting bank branches in all Custodial\\nrelated issues; increase the wallet size per customer; ensure all\\ndelivery channels are managed effectively resulting in excellent\\ncustomer service;Liaising with administrators & fund managers for documentation and custody fees.DECISION-MAKING AUTHORITYThe role is highly guided by Standard Operating procedures.Appropriateness of custodial products.Management of risk of assets in custody.ACADEMIC BACKGROUNDUniversity degree or above in a relevant business discipline e.g. business administration or finance;A Master’s degree will be an added advantage.WORK EXPERIENCEA minimum of 5 years experience in\\nCorporate Banking, with at least 2 years in a management position with\\nexposure in Custodial Services.SKILLS & COMPETENCIESExcellent communication and interpersonal skills;Good marketing skills;Good knowledge of market regulations, operations, and practices;Good knowledge of capital markets and the pensions industry; andA good understanding of investment banking productsPROFESSIONAL CERTIFICATIONAny Professional qualifications in\\xa0ACCA,\\xa0CPA(K);Diploma in Banking – AKIB (added advantage)',\n",
              "  'title': 'Manager – Custodial Services'}]"
            ]
          },
          "metadata": {},
          "execution_count": 7
        }
      ]
    },
    {
      "cell_type": "code",
      "source": [
        ""
      ],
      "metadata": {
        "id": "c57DmfIPBYY1"
      },
      "execution_count": 7,
      "outputs": []
    },
    {
      "cell_type": "code",
      "source": [
        ""
      ],
      "metadata": {
        "id": "kLpaCTZyfR_J"
      },
      "execution_count": 7,
      "outputs": []
    }
  ]
}